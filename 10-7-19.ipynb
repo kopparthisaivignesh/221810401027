{
 "cells": [
  {
   "cell_type": "code",
   "execution_count": 3,
   "metadata": {},
   "outputs": [
    {
     "name": "stdout",
     "output_type": "stream",
     "text": [
      "kopparthisaivignesh\n"
     ]
    }
   ],
   "source": [
    "p={\"hi\":\"kopparthisaivignesh\"}\n",
    "print(p[\"hi\"])"
   ]
  },
  {
   "cell_type": "code",
   "execution_count": null,
   "metadata": {},
   "outputs": [],
   "source": [
    "0 to 9 :48 - 57\n",
    "A to Z :65 - 90\n",
    "a to z :97 - 122\n",
    "space :32"
   ]
  },
  {
   "cell_type": "code",
   "execution_count": null,
   "metadata": {},
   "outputs": [],
   "source": []
  },
  {
   "cell_type": "code",
   "execution_count": 8,
   "metadata": {},
   "outputs": [
    {
     "name": "stdout",
     "output_type": "stream",
     "text": [
      "{'hi': 'kopparthisaivignesh'}\n"
     ]
    }
   ],
   "source": [
    "p={\"hi\":\"kopparthisaivignesh\"}\n",
    "print(p)\n"
   ]
  },
  {
   "cell_type": "code",
   "execution_count": 9,
   "metadata": {},
   "outputs": [
    {
     "data": {
      "text/plain": [
       "dict_keys(['hi'])"
      ]
     },
     "execution_count": 9,
     "metadata": {},
     "output_type": "execute_result"
    }
   ],
   "source": [
    "p.keys()"
   ]
  },
  {
   "cell_type": "code",
   "execution_count": 13,
   "metadata": {},
   "outputs": [
    {
     "data": {
      "text/plain": [
       "dict_values(['kopparthisaivignesh'])"
      ]
     },
     "execution_count": 13,
     "metadata": {},
     "output_type": "execute_result"
    }
   ],
   "source": [
    "p.values()"
   ]
  },
  {
   "cell_type": "code",
   "execution_count": 14,
   "metadata": {},
   "outputs": [
    {
     "data": {
      "text/plain": [
       "dict_items([('hi', 'kopparthisaivignesh')])"
      ]
     },
     "execution_count": 14,
     "metadata": {},
     "output_type": "execute_result"
    }
   ],
   "source": [
    "p.items()"
   ]
  },
  {
   "cell_type": "code",
   "execution_count": 29,
   "metadata": {},
   "outputs": [
    {
     "name": "stdout",
     "output_type": "stream",
     "text": [
      "contact added\n",
      "contact added\n",
      "exist\n"
     ]
    }
   ],
   "source": [
    "c={}\n",
    "def addcontact(n,p):\n",
    "    if n not in c:\n",
    "        c[n] = p\n",
    "        print(\"contact added\")\n",
    "    else:\n",
    "        print(\"exist\")\n",
    "    return\n",
    "addcontact('sai','7780376389')\n",
    "addcontact('vignesh','9494938989')\n",
    "addcontact('sai','7780376389')"
   ]
  },
  {
   "cell_type": "code",
   "execution_count": 31,
   "metadata": {},
   "outputs": [
    {
     "name": "stdout",
     "output_type": "stream",
     "text": [
      "2 hi\n"
     ]
    }
   ],
   "source": [
    "def update(n):\n",
    "    c.update(n)\n",
    "    print(len(n.keys()),\"hi\")\n",
    "    return\n",
    "n={'r':'7780376389','f':'9494938989'}\n",
    "update(n)\n"
   ]
  },
  {
   "cell_type": "code",
   "execution_count": 32,
   "metadata": {},
   "outputs": [
    {
     "name": "stdout",
     "output_type": "stream",
     "text": [
      "d s\n",
      "noe\n"
     ]
    }
   ],
   "source": [
    "def dc(n):\n",
    "    if n in c:\n",
    "        del c[n]\n",
    "        print(\"d s\")\n",
    "    else:\n",
    "        print(\"noe\")\n",
    "    return\n",
    "dc('r')\n",
    "dc('teja')"
   ]
  }
 ],
 "metadata": {
  "kernelspec": {
   "display_name": "Python 3",
   "language": "python",
   "name": "python3"
  },
  "language_info": {
   "codemirror_mode": {
    "name": "ipython",
    "version": 3
   },
   "file_extension": ".py",
   "mimetype": "text/x-python",
   "name": "python",
   "nbconvert_exporter": "python",
   "pygments_lexer": "ipython3",
   "version": "3.7.3"
  }
 },
 "nbformat": 4,
 "nbformat_minor": 2
}

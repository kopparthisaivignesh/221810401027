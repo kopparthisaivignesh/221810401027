{
 "cells": [
  {
   "cell_type": "code",
   "execution_count": 20,
   "metadata": {},
   "outputs": [
    {
     "name": "stdout",
     "output_type": "stream",
     "text": [
      "sai.txt\n",
      "c\n"
     ]
    }
   ],
   "source": [
    "#files\n",
    "def createf(n):\n",
    "    print(n)\n",
    "    f = open(n,'w')\n",
    "    for i in range(5):\n",
    "        f.write('going %d'%i)\n",
    "    print('c')\n",
    "    f.close()\n",
    "    return\n",
    "\n",
    "\n",
    "createf(\"sai.txt\")"
   ]
  },
  {
   "cell_type": "code",
   "execution_count": 21,
   "metadata": {},
   "outputs": [
    {
     "ename": "NameError",
     "evalue": "name 'ln' is not defined",
     "output_type": "error",
     "traceback": [
      "\u001b[1;31m---------------------------------------------------------------------------\u001b[0m",
      "\u001b[1;31mNameError\u001b[0m                                 Traceback (most recent call last)",
      "\u001b[1;32m<ipython-input-21-9f27fb5a2e8f>\u001b[0m in \u001b[0;36m<module>\u001b[1;34m\u001b[0m\n\u001b[1;32m----> 1\u001b[1;33m \u001b[0mln\u001b[0m\u001b[1;33m\u001b[0m\u001b[1;33m\u001b[0m\u001b[0m\n\u001b[0m",
      "\u001b[1;31mNameError\u001b[0m: name 'ln' is not defined"
     ]
    }
   ],
   "source": [
    "ln"
   ]
  },
  {
   "cell_type": "code",
   "execution_count": 22,
   "metadata": {},
   "outputs": [
    {
     "name": "stdout",
     "output_type": "stream",
     "text": [
      " Volume in drive C is Acer\n",
      " Volume Serial Number is 622B-209E\n",
      "\n",
      " Directory of C:\\Users\\Sai Vignesh\\python\n",
      "\n",
      "11-07-2019  09:49 AM    <DIR>          .\n",
      "11-07-2019  09:49 AM    <DIR>          ..\n",
      "11-07-2019  09:20 AM    <DIR>          .ipynb_checkpoints\n",
      "10-07-2019  10:40 AM             3,807 10-7-19.ipynb\n",
      "11-07-2019  09:49 AM             3,131 11-7-19.ipynb\n",
      "05-07-2019  04:31 PM             4,757 5-7-19.ipynb\n",
      "06-07-2019  11:50 AM             2,174 6-7-19.ipynb\n",
      "08-07-2019  10:18 PM             9,682 8-7-19.ipynb\n",
      "10-07-2019  04:49 PM             6,260 9-7-19.ipynb\n",
      "10-07-2019  04:49 PM            10,518 assignment  day 9.ipynb\n",
      "06-07-2019  09:35 AM             5,921 assinment.ipynb\n",
      "08-07-2019  10:03 PM            35,485 factors.png\n",
      "08-07-2019  11:28 AM             1,312 leap year.ipynb\n",
      "08-07-2019  11:26 AM            12,809 leapyear.png\n",
      "08-07-2019  10:15 PM            17,989 np 1.png\n",
      "08-07-2019  10:16 PM            38,102 np 2.png\n",
      "08-07-2019  10:17 PM            31,354 np 3.png\n",
      "08-07-2019  10:08 PM            15,105 prime 1.png\n",
      "08-07-2019  10:09 PM            41,977 prime 2.png\n",
      "03-07-2019  02:24 PM             3,658 program 1-checkpoint.ipynb\n",
      "08-07-2019  04:26 PM             1,852 ROQ.ipynb\n",
      "08-07-2019  11:09 AM            77,022 roq.png\n",
      "11-07-2019  09:44 AM                 0 sai\n",
      "11-07-2019  10:01 AM                35 sai.txt\n",
      "06-07-2019  12:08 PM             1,078 Untitled.ipynb\n",
      "06-07-2019  12:30 PM             1,062 Untitled1.ipynb\n",
      "              23 File(s)        325,090 bytes\n",
      "               3 Dir(s)  928,415,014,912 bytes free\n"
     ]
    }
   ],
   "source": [
    "ls"
   ]
  },
  {
   "cell_type": "code",
   "execution_count": 31,
   "metadata": {},
   "outputs": [
    {
     "name": "stdout",
     "output_type": "stream",
     "text": [
      "hi world\n",
      "c\n"
     ]
    }
   ],
   "source": [
    "#files\n",
    "def createf(n):\n",
    "    f = open(n,'a')\n",
    "    for i in range(1):\n",
    "        f.write(str(input()))\n",
    "        f.write('\\n')\n",
    "    print('c')\n",
    "    f.close()\n",
    "    return\n",
    "\n",
    "\n",
    "createf(\"sai.txt\")"
   ]
  },
  {
   "cell_type": "code",
   "execution_count": 32,
   "metadata": {},
   "outputs": [
    {
     "name": "stdout",
     "output_type": "stream",
     "text": [
      "kopparthisaivignesh\n",
      "tejasri\n",
      "kopparthi uma pallarao\n",
      "hi\n",
      "world\n",
      "hellohi world\n",
      "\n",
      "c\n"
     ]
    }
   ],
   "source": [
    "#files\n",
    "def createf(n):\n",
    "    f = open(n,'r')\n",
    "    if f.mode=='r':\n",
    "        x=f.read()\n",
    "        print(x)\n",
    "    print('c')\n",
    "    f.close()\n",
    "    return\n",
    "\n",
    "\n",
    "createf(\"sai.txt\")"
   ]
  },
  {
   "cell_type": "code",
   "execution_count": 33,
   "metadata": {},
   "outputs": [
    {
     "name": "stdout",
     "output_type": "stream",
     "text": [
      "sai\n",
      "kopparthi\n"
     ]
    }
   ],
   "source": [
    "a=[\"sai\",\"vignesh\",\"kopparthi\"]\n",
    "print(a[0])\n",
    "print(a[2])"
   ]
  },
  {
   "cell_type": "code",
   "execution_count": 34,
   "metadata": {},
   "outputs": [
    {
     "data": {
      "text/plain": [
       "362880"
      ]
     },
     "execution_count": 34,
     "metadata": {},
     "output_type": "execute_result"
    }
   ],
   "source": [
    "import math\n",
    "math.factorial(9)"
   ]
  },
  {
   "cell_type": "code",
   "execution_count": 38,
   "metadata": {},
   "outputs": [
    {
     "data": {
      "text/plain": [
       "7"
      ]
     },
     "execution_count": 38,
     "metadata": {},
     "output_type": "execute_result"
    }
   ],
   "source": [
    "def cl(n):\n",
    "    with open(n,'r') as f:\n",
    "        x=f.read()\n",
    "    return len(x.split('\\n'))\n",
    "cl('sai.txt')"
   ]
  },
  {
   "cell_type": "code",
   "execution_count": 39,
   "metadata": {},
   "outputs": [
    {
     "name": "stdout",
     "output_type": "stream",
     "text": [
      "[WinError 2] The system cannot find the file specified: 'downloads'\n",
      "C:\\Users\\Sai Vignesh\\python\n"
     ]
    }
   ],
   "source": [
    "cd downloads\n"
   ]
  },
  {
   "cell_type": "code",
   "execution_count": 40,
   "metadata": {},
   "outputs": [
    {
     "name": "stdout",
     "output_type": "stream",
     "text": [
      " Volume in drive C is Acer\n",
      " Volume Serial Number is 622B-209E\n",
      "\n",
      " Directory of C:\\Users\\Sai Vignesh\\python\n",
      "\n",
      "11-07-2019  12:37 PM    <DIR>          .\n",
      "11-07-2019  12:37 PM    <DIR>          ..\n",
      "11-07-2019  09:20 AM    <DIR>          .ipynb_checkpoints\n",
      "10-07-2019  10:40 AM             3,807 10-7-19.ipynb\n",
      "11-07-2019  12:37 PM             6,573 11-7-19.ipynb\n",
      "05-07-2019  04:31 PM             4,757 5-7-19.ipynb\n",
      "06-07-2019  11:50 AM             2,174 6-7-19.ipynb\n",
      "08-07-2019  10:18 PM             9,682 8-7-19.ipynb\n",
      "10-07-2019  04:49 PM             6,260 9-7-19.ipynb\n",
      "10-07-2019  04:49 PM            10,518 assignment  day 9.ipynb\n",
      "06-07-2019  09:35 AM             5,921 assinment.ipynb\n",
      "08-07-2019  10:03 PM            35,485 factors.png\n",
      "08-07-2019  11:28 AM             1,312 leap year.ipynb\n",
      "08-07-2019  11:26 AM            12,809 leapyear.png\n",
      "08-07-2019  10:15 PM            17,989 np 1.png\n",
      "08-07-2019  10:16 PM            38,102 np 2.png\n",
      "08-07-2019  10:17 PM            31,354 np 3.png\n",
      "08-07-2019  10:08 PM            15,105 prime 1.png\n",
      "08-07-2019  10:09 PM            41,977 prime 2.png\n",
      "03-07-2019  02:24 PM             3,658 program 1-checkpoint.ipynb\n",
      "08-07-2019  04:26 PM             1,852 ROQ.ipynb\n",
      "08-07-2019  11:09 AM            77,022 roq.png\n",
      "11-07-2019  10:15 AM                80 sai.txt\n",
      "06-07-2019  12:08 PM             1,078 Untitled.ipynb\n",
      "06-07-2019  12:30 PM             1,062 Untitled1.ipynb\n",
      "              22 File(s)        328,577 bytes\n",
      "               3 Dir(s)  928,198,402,048 bytes free\n"
     ]
    }
   ],
   "source": [
    "ls\n"
   ]
  },
  {
   "cell_type": "code",
   "execution_count": 42,
   "metadata": {},
   "outputs": [
    {
     "name": "stdout",
     "output_type": "stream",
     "text": [
      "C:\\Users\\Sai Vignesh\n"
     ]
    }
   ],
   "source": [
    "cd ..\n"
   ]
  },
  {
   "cell_type": "code",
   "execution_count": 43,
   "metadata": {},
   "outputs": [
    {
     "name": "stdout",
     "output_type": "stream",
     "text": [
      "C:\\Users\\Sai Vignesh\\python\n"
     ]
    }
   ],
   "source": [
    "cd python"
   ]
  },
  {
   "cell_type": "code",
   "execution_count": 45,
   "metadata": {},
   "outputs": [
    {
     "name": "stdout",
     "output_type": "stream",
     "text": [
      "C:\\Users\\Sai Vignesh\n"
     ]
    }
   ],
   "source": [
    "cd ..\n"
   ]
  },
  {
   "cell_type": "code",
   "execution_count": 48,
   "metadata": {},
   "outputs": [
    {
     "name": "stdout",
     "output_type": "stream",
     "text": [
      " Volume in drive C is Acer\n",
      " Volume Serial Number is 622B-209E\n",
      "\n",
      " Directory of C:\\Users\\Sai Vignesh\n",
      "\n",
      "10-07-2019  04:50 PM    <DIR>          .\n",
      "10-07-2019  04:50 PM    <DIR>          ..\n",
      "02-07-2019  04:14 PM    <DIR>          .anaconda\n",
      "05-07-2019  10:59 AM             1,038 .bash_history\n",
      "08-07-2019  04:32 PM    <DIR>          .conda\n",
      "08-07-2019  09:09 AM                43 .condarc\n",
      "03-07-2019  08:08 AM    <DIR>          .ipynb_checkpoints\n",
      "02-07-2019  04:34 PM    <DIR>          .ipython\n",
      "02-07-2019  04:43 PM    <DIR>          .jupyter\n",
      "06-07-2019  11:09 PM    <DIR>          3D Objects\n",
      "03-07-2019  08:07 AM    <DIR>          Anacinda\n",
      "02-07-2019  04:28 PM    <DIR>          Anaconda3\n",
      "06-07-2019  11:09 PM    <DIR>          Contacts\n",
      "10-07-2019  05:30 PM    <DIR>          Desktop\n",
      "06-07-2019  11:10 PM    <DIR>          Documents\n",
      "11-07-2019  12:48 PM    <DIR>          Downloads\n",
      "06-07-2019  11:09 PM    <DIR>          Favorites\n",
      "05-07-2019  11:26 AM    <DIR>          harsha\n",
      "06-07-2019  11:10 PM    <DIR>          Links\n",
      "06-07-2019  11:09 PM    <DIR>          Music\n",
      "11-07-2019  08:56 AM    <DIR>          OneDrive\n",
      "06-07-2019  11:09 PM    <DIR>          Pictures\n",
      "11-07-2019  02:18 PM    <DIR>          python\n",
      "04-07-2019  12:39 PM                 0 sai.txt\n",
      "06-07-2019  11:10 PM    <DIR>          Saved Games\n",
      "06-07-2019  11:09 PM    <DIR>          Searches\n",
      "06-07-2019  11:09 PM    <DIR>          Videos\n",
      "               3 File(s)          1,081 bytes\n",
      "              24 Dir(s)  928,171,499,520 bytes free\n"
     ]
    }
   ],
   "source": [
    "ls"
   ]
  },
  {
   "cell_type": "code",
   "execution_count": 50,
   "metadata": {},
   "outputs": [
    {
     "name": "stdout",
     "output_type": "stream",
     "text": [
      "10-7-19.ipynb\n",
      "11-7-19.ipynb\n",
      "5-7-19.ipynb\n",
      "6-7-19.ipynb\n",
      "8-7-19.ipynb\n",
      "9-7-19.ipynb\n",
      "assignment  day 9.ipynb\n",
      "assinment.ipynb\n",
      "factors.png\n",
      "leap year.ipynb\n",
      "leapyear.png\n",
      "np 1.png\n",
      "np 2.png\n",
      "np 3.png\n",
      "prime 1.png\n",
      "prime 2.png\n",
      "program 1-checkpoint.ipynb\n",
      "ROQ.ipynb\n",
      "roq.png\n",
      "sai.txt\n",
      "Untitled.ipynb\n",
      "Untitled1.ipynb\n"
     ]
    }
   ],
   "source": [
    "import os\n",
    "d=\"python/\"\n",
    "for i in os.listdir(d):\n",
    "    if os.path.isfile(os.path.join(d,i)):\n",
    "        print(i)"
   ]
  },
  {
   "cell_type": "code",
   "execution_count": 51,
   "metadata": {},
   "outputs": [
    {
     "name": "stdout",
     "output_type": "stream",
     "text": [
      "C:\\Users\\Sai Vignesh\\python\n"
     ]
    }
   ],
   "source": [
    "cd python"
   ]
  },
  {
   "cell_type": "code",
   "execution_count": 52,
   "metadata": {},
   "outputs": [],
   "source": [
    "os.mkdir(\"sd\")"
   ]
  },
  {
   "cell_type": "code",
   "execution_count": 53,
   "metadata": {},
   "outputs": [
    {
     "name": "stdout",
     "output_type": "stream",
     "text": [
      " Volume in drive C is Acer\n",
      " Volume Serial Number is 622B-209E\n",
      "\n",
      " Directory of C:\\Users\\Sai Vignesh\\python\n",
      "\n",
      "11-07-2019  02:44 PM    <DIR>          .\n",
      "11-07-2019  02:44 PM    <DIR>          ..\n",
      "11-07-2019  09:20 AM    <DIR>          .ipynb_checkpoints\n",
      "10-07-2019  10:40 AM             3,807 10-7-19.ipynb\n",
      "11-07-2019  02:21 PM            12,374 11-7-19.ipynb\n",
      "05-07-2019  04:31 PM             4,757 5-7-19.ipynb\n",
      "06-07-2019  11:50 AM             2,174 6-7-19.ipynb\n",
      "08-07-2019  10:18 PM             9,682 8-7-19.ipynb\n",
      "10-07-2019  04:49 PM             6,260 9-7-19.ipynb\n",
      "11-07-2019  02:08 PM            10,404 assignment  day 9.ipynb\n",
      "06-07-2019  09:35 AM             5,921 assinment.ipynb\n",
      "08-07-2019  10:03 PM            35,485 factors.png\n",
      "08-07-2019  11:28 AM             1,312 leap year.ipynb\n",
      "08-07-2019  11:26 AM            12,809 leapyear.png\n",
      "08-07-2019  10:15 PM            17,989 np 1.png\n",
      "08-07-2019  10:16 PM            38,102 np 2.png\n",
      "08-07-2019  10:17 PM            31,354 np 3.png\n",
      "08-07-2019  10:08 PM            15,105 prime 1.png\n",
      "08-07-2019  10:09 PM            41,977 prime 2.png\n",
      "03-07-2019  02:24 PM             3,658 program 1-checkpoint.ipynb\n",
      "08-07-2019  04:26 PM             1,852 ROQ.ipynb\n",
      "08-07-2019  11:09 AM            77,022 roq.png\n",
      "11-07-2019  10:15 AM                80 sai.txt\n",
      "11-07-2019  02:44 PM    <DIR>          sd\n",
      "06-07-2019  12:08 PM             1,078 Untitled.ipynb\n",
      "06-07-2019  12:30 PM             1,062 Untitled1.ipynb\n",
      "              22 File(s)        334,264 bytes\n",
      "               4 Dir(s)  928,167,809,024 bytes free\n"
     ]
    }
   ],
   "source": [
    "ls"
   ]
  },
  {
   "cell_type": "code",
   "execution_count": 54,
   "metadata": {},
   "outputs": [
    {
     "name": "stdout",
     "output_type": "stream",
     "text": [
      "C:\\Users\\Sai Vignesh\\python\\sd\n"
     ]
    }
   ],
   "source": [
    "cd sd"
   ]
  },
  {
   "cell_type": "code",
   "execution_count": 55,
   "metadata": {},
   "outputs": [],
   "source": [
    "os.mkdir(\"min.txt\")"
   ]
  },
  {
   "cell_type": "code",
   "execution_count": 56,
   "metadata": {},
   "outputs": [
    {
     "name": "stdout",
     "output_type": "stream",
     "text": [
      "C:\\Users\\Sai Vignesh\\python\\sd\\min.txt\n"
     ]
    }
   ],
   "source": [
    "cd min.txt"
   ]
  },
  {
   "cell_type": "code",
   "execution_count": 57,
   "metadata": {},
   "outputs": [
    {
     "name": "stdout",
     "output_type": "stream",
     "text": [
      "C:\\Users\\Sai Vignesh\\python\\sd\n"
     ]
    }
   ],
   "source": [
    "cd .."
   ]
  },
  {
   "cell_type": "code",
   "execution_count": 59,
   "metadata": {},
   "outputs": [],
   "source": [
    "import pathlib\n",
    "a=pathlib.Path(\"hi\")\n",
    "a.mkdir()"
   ]
  },
  {
   "cell_type": "code",
   "execution_count": null,
   "metadata": {},
   "outputs": [],
   "source": []
  }
 ],
 "metadata": {
  "kernelspec": {
   "display_name": "Python 3",
   "language": "python",
   "name": "python3"
  },
  "language_info": {
   "codemirror_mode": {
    "name": "ipython",
    "version": 3
   },
   "file_extension": ".py",
   "mimetype": "text/x-python",
   "name": "python",
   "nbconvert_exporter": "python",
   "pygments_lexer": "ipython3",
   "version": "3.7.3"
  }
 },
 "nbformat": 4,
 "nbformat_minor": 2
}

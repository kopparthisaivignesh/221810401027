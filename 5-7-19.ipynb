{
 "cells": [
  {
   "cell_type": "markdown",
   "metadata": {},
   "source": [
    "**point**\n",
    "# markdown basic\n",
    "##### mark\n",
    "*hello*\n",
    "**hello**\n",
    "***hello***\n",
    "*normal\n",
    "*google site --[1]:https://www.youtube.com\n",
    "\n",
    "-[]option 2\n",
    "[2]https://gaana.com\n",
    "*google --[google][2]"
   ]
  },
  {
   "cell_type": "markdown",
   "metadata": {},
   "source": [
    "### python basics\n",
    "* python varsion 3.7\n",
    "- functional programming"
   ]
  },
  {
   "cell_type": "code",
   "execution_count": 4,
   "metadata": {},
   "outputs": [
    {
     "name": "stdout",
     "output_type": "stream",
     "text": [
      "hello hi\n"
     ]
    }
   ],
   "source": [
    "print(\"hello \",end=\"\")\n",
    "print(\"hi\")"
   ]
  },
  {
   "cell_type": "code",
   "execution_count": 8,
   "metadata": {},
   "outputs": [
    {
     "name": "stdout",
     "output_type": "stream",
     "text": [
      "100\n",
      "7.4\n",
      "python\n",
      "<class 'int'>\n",
      "<class 'str'>\n",
      "<class 'float'>\n"
     ]
    }
   ],
   "source": [
    "a=100;\n",
    "s1=\"python\"\n",
    "s2=7.4\n",
    "print(a)\n",
    "print(s2)\n",
    "print(s1)\n",
    "print(type(a))\n",
    "print(type(s1))\n",
    "print(type(s2))"
   ]
  },
  {
   "cell_type": "code",
   "execution_count": 10,
   "metadata": {},
   "outputs": [
    {
     "name": "stdout",
     "output_type": "stream",
     "text": [
      "<class 'str'>\n",
      "<class 'int'>\n",
      "1\n"
     ]
    }
   ],
   "source": [
    "s=\"100\"\n",
    "print(type(s))\n",
    "print(type(int(s)))\n",
    "f=1.5\n",
    "b=int(f)\n",
    "print(b)"
   ]
  },
  {
   "cell_type": "code",
   "execution_count": 14,
   "metadata": {},
   "outputs": [
    {
     "data": {
      "text/plain": [
       "32"
      ]
     },
     "execution_count": 14,
     "metadata": {},
     "output_type": "execute_result"
    }
   ],
   "source": [
    "s1=32\n",
    "s1"
   ]
  },
  {
   "cell_type": "code",
   "execution_count": 16,
   "metadata": {},
   "outputs": [
    {
     "name": "stdout",
     "output_type": "stream",
     "text": [
      "4\n"
     ]
    },
    {
     "data": {
      "text/plain": [
       "4"
      ]
     },
     "execution_count": 16,
     "metadata": {},
     "output_type": "execute_result"
    }
   ],
   "source": [
    "n=int(input())\n",
    "n"
   ]
  },
  {
   "cell_type": "code",
   "execution_count": 18,
   "metadata": {},
   "outputs": [
    {
     "name": "stdout",
     "output_type": "stream",
     "text": [
      "377\n",
      "-131\n",
      "31242\n",
      "685327731325725206147427539091502376208765459026208854753140938686601658592135644209644472729179761447521590838897711891139258600703970434899798999789838577435553078543175851859851901826335911803741749641991332371090553628471143790053405074997710369651089900956895894174166795957386540513475155338859937610992060790651790759093640070188119500725556969580560115287365211541213951461480167875304543512826833862392019248715730067264408846681222010688686687807050373691178998476908963437083717343796417887854037672328060718238236429609\n",
      "0.484251968503937\n",
      "0\n",
      "123\n"
     ]
    }
   ],
   "source": [
    "print(123+254)\n",
    "print(123-254)\n",
    "print(123*254)\n",
    "print(123**254)\n",
    "print(123/254)\n",
    "print(123//254)\n",
    "print(123%254)"
   ]
  },
  {
   "cell_type": "code",
   "execution_count": 21,
   "metadata": {},
   "outputs": [
    {
     "name": "stdout",
     "output_type": "stream",
     "text": [
      "enter num0\n",
      "0\n"
     ]
    }
   ],
   "source": [
    "n=int(input(\"enter num\"))\n",
    "if n==0:\n",
    "    print(\"0\")\n",
    "elif n>0:\n",
    "    print(\"+ve\")\n",
    "else:\n",
    "    print(\"-ve\")"
   ]
  },
  {
   "cell_type": "code",
   "execution_count": 22,
   "metadata": {},
   "outputs": [
    {
     "name": "stdout",
     "output_type": "stream",
     "text": [
      "20\n",
      "40\n",
      "\n"
     ]
    }
   ],
   "source": [
    "a=input()\n",
    "b=input()\n",
    "sum=float(a)+float(b)\n",
    "print(\"\".format(a,b,sum))"
   ]
  },
  {
   "cell_type": "code",
   "execution_count": null,
   "metadata": {},
   "outputs": [],
   "source": []
  }
 ],
 "metadata": {
  "kernelspec": {
   "display_name": "Python 3",
   "language": "python",
   "name": "python3"
  },
  "language_info": {
   "codemirror_mode": {
    "name": "ipython",
    "version": 3
   },
   "file_extension": ".py",
   "mimetype": "text/x-python",
   "name": "python",
   "nbconvert_exporter": "python",
   "pygments_lexer": "ipython3",
   "version": "3.7.3"
  }
 },
 "nbformat": 4,
 "nbformat_minor": 2
}

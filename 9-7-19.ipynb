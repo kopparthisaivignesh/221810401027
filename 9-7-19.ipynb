{
 "cells": [
  {
   "cell_type": "code",
   "execution_count": 42,
   "metadata": {},
   "outputs": [
    {
     "name": "stdout",
     "output_type": "stream",
     "text": [
      "gitam\n",
      "9.0\n",
      "7\n",
      "m\n"
     ]
    }
   ],
   "source": [
    "l=[\"gitam\",9,7.5]\n",
    "print(l[0])\n",
    "print(float(l[1]))\n",
    "print(int(l[2]))\n",
    "print(l[0][::-5])"
   ]
  },
  {
   "cell_type": "code",
   "execution_count": 55,
   "metadata": {},
   "outputs": [
    {
     "name": "stdout",
     "output_type": "stream",
     "text": [
      "6\n"
     ]
    }
   ],
   "source": [
    "k=[6,4,8,9,4,3]\n",
    "print(k[-6])"
   ]
  },
  {
   "cell_type": "code",
   "execution_count": 43,
   "metadata": {},
   "outputs": [
    {
     "name": "stdout",
     "output_type": "stream",
     "text": [
      "[9, 7.5]\n"
     ]
    }
   ],
   "source": [
    "del l[0]\n",
    "print(l)"
   ]
  },
  {
   "cell_type": "code",
   "execution_count": 45,
   "metadata": {},
   "outputs": [
    {
     "name": "stdout",
     "output_type": "stream",
     "text": [
      "94\n"
     ]
    }
   ],
   "source": [
    "a=[45,65,84,94,95,35,48]\n",
    "a.sort()\n",
    "print(a[-2])"
   ]
  },
  {
   "cell_type": "code",
   "execution_count": 9,
   "metadata": {
    "collapsed": true
   },
   "outputs": [
    {
     "name": "stdout",
     "output_type": "stream",
     "text": [
      "['JAI ZUBIN ', 'JAI ZUBIN ', 'JAI ZUBIN ', 'JAI ZUBIN ', 'JAI ZUBIN ', 'JAI ZUBIN ', 'JAI ZUBIN ', 'JAI ZUBIN ', 'JAI ZUBIN ', 'JAI ZUBIN ', 'JAI ZUBIN ', 'JAI ZUBIN ', 'JAI ZUBIN ', 'JAI ZUBIN ', 'JAI ZUBIN ', 'JAI ZUBIN ', 'JAI ZUBIN ', 'JAI ZUBIN ', 'JAI ZUBIN ', 'JAI ZUBIN ']\n"
     ]
    }
   ],
   "source": [
    "import random\n",
    "a=[\"JAI ZUBIN \"]\n",
    "i=random.randint(1,2)\n",
    "if i==1:\n",
    "    print(a*20)\n",
    "else:\n",
    "    print(a*10)"
   ]
  },
  {
   "cell_type": "code",
   "execution_count": 31,
   "metadata": {},
   "outputs": [
    {
     "name": "stdout",
     "output_type": "stream",
     "text": [
      "\n",
      "565435\n"
     ]
    },
    {
     "data": {
      "text/plain": [
       "'not found'"
      ]
     },
     "execution_count": 31,
     "metadata": {},
     "output_type": "execute_result"
    }
   ],
   "source": [
    "def sl(a,b):\n",
    "    j=0\n",
    "    for i in range(len(a)):\n",
    "        if b==a[i]:\n",
    "            j+=1\n",
    "            print(i+1,end=\" \")\n",
    "            #return i+1\n",
    "    if j!=0:\n",
    "        return \"completed\"\n",
    "    else:\n",
    "        return \"not found\"\n",
    "c=input()\n",
    "sl(list(c),input())\n",
    "\n",
    "    "
   ]
  },
  {
   "cell_type": "code",
   "execution_count": 21,
   "metadata": {},
   "outputs": [
    {
     "data": {
      "text/plain": [
       "[8, 2, 8, 448, 3136, 25088, 225792, 903168, 4]"
      ]
     },
     "execution_count": 21,
     "metadata": {},
     "output_type": "execute_result"
    }
   ],
   "source": [
    "def pl(a):\n",
    "    for i in range(len(a)):\n",
    "        if i!=1 and i!=len(a)-1:\n",
    "            a[i]=a[i-1]*a[i+1]\n",
    "    return a\n",
    "#v=int(input())\n",
    "v=[1,2,3,4,56,7,8,9,4]\n",
    "pl(v)"
   ]
  },
  {
   "cell_type": "code",
   "execution_count": 39,
   "metadata": {},
   "outputs": [
    {
     "name": "stdout",
     "output_type": "stream",
     "text": [
      "123456\n"
     ]
    },
    {
     "data": {
      "text/plain": [
       "[1, 3, 8, 15, 24, 6]"
      ]
     },
     "execution_count": 39,
     "metadata": {},
     "output_type": "execute_result"
    }
   ],
   "source": [
    "def pl(a):\n",
    "    b=[]\n",
    "    for j in range(len(a)):\n",
    "        a[j]=int(a[j])\n",
    "    for i in range(len(a)):\n",
    "        if i!=0 and i!=len(a)-1:\n",
    "            b.append(a[i-1]*a[i+1])\n",
    "        else:\n",
    "            b.append(a[i])\n",
    "    return b\n",
    "\n",
    "pl(list(input()))"
   ]
  },
  {
   "cell_type": "code",
   "execution_count": 42,
   "metadata": {},
   "outputs": [
    {
     "name": "stdout",
     "output_type": "stream",
     "text": [
      "2649486\n"
     ]
    },
    {
     "data": {
      "text/plain": [
       "[2, 6, 9, 8, 6]"
      ]
     },
     "execution_count": 42,
     "metadata": {},
     "output_type": "execute_result"
    }
   ],
   "source": [
    "def pa(a):\n",
    "    b=[]\n",
    "    for j in range(len(a)):\n",
    "        a[j]=int(a[j])\n",
    "    for i in range(len(a)):\n",
    "        if i!=0 and i!=len(a)-1:\n",
    "            if a[i-1]%2==0 and a[i+1]%2==0:\n",
    "                b.append(a[i])\n",
    "        else:\n",
    "            b.append(a[i])\n",
    "    return b\n",
    "\n",
    "pa(list(input()))"
   ]
  },
  {
   "cell_type": "code",
   "execution_count": 66,
   "metadata": {},
   "outputs": [
    {
     "name": "stdout",
     "output_type": "stream",
     "text": [
      "1,2,3,4\n"
     ]
    },
    {
     "ename": "TypeError",
     "evalue": "can only concatenate str (not \"int\") to str",
     "output_type": "error",
     "traceback": [
      "\u001b[1;31m---------------------------------------------------------------------------\u001b[0m",
      "\u001b[1;31mTypeError\u001b[0m                                 Traceback (most recent call last)",
      "\u001b[1;32m<ipython-input-66-32c71146fb9b>\u001b[0m in \u001b[0;36m<module>\u001b[1;34m\u001b[0m\n\u001b[0;32m      5\u001b[0m     \u001b[1;32mreturn\u001b[0m \u001b[0mr\u001b[0m\u001b[1;33m\u001b[0m\u001b[1;33m\u001b[0m\u001b[0m\n\u001b[0;32m      6\u001b[0m \u001b[0ma\u001b[0m\u001b[1;33m=\u001b[0m\u001b[0mstr\u001b[0m\u001b[1;33m(\u001b[0m\u001b[0minput\u001b[0m\u001b[1;33m(\u001b[0m\u001b[1;33m)\u001b[0m\u001b[1;33m)\u001b[0m\u001b[1;33m\u001b[0m\u001b[1;33m\u001b[0m\u001b[0m\n\u001b[1;32m----> 7\u001b[1;33m \u001b[0mla\u001b[0m\u001b[1;33m(\u001b[0m\u001b[0ma\u001b[0m\u001b[1;33m)\u001b[0m\u001b[1;33m\u001b[0m\u001b[1;33m\u001b[0m\u001b[0m\n\u001b[0m",
      "\u001b[1;32m<ipython-input-66-32c71146fb9b>\u001b[0m in \u001b[0;36mla\u001b[1;34m(x)\u001b[0m\n\u001b[0;32m      2\u001b[0m     \u001b[0mr\u001b[0m\u001b[1;33m=\u001b[0m\u001b[1;36m0\u001b[0m\u001b[1;33m\u001b[0m\u001b[1;33m\u001b[0m\u001b[0m\n\u001b[0;32m      3\u001b[0m     \u001b[1;32mfor\u001b[0m \u001b[0mi\u001b[0m \u001b[1;32min\u001b[0m \u001b[0mrange\u001b[0m \u001b[1;33m(\u001b[0m\u001b[0mlen\u001b[0m\u001b[1;33m(\u001b[0m\u001b[0mx\u001b[0m\u001b[1;33m)\u001b[0m\u001b[1;33m)\u001b[0m\u001b[1;33m:\u001b[0m\u001b[1;33m\u001b[0m\u001b[1;33m\u001b[0m\u001b[0m\n\u001b[1;32m----> 4\u001b[1;33m         \u001b[0mr\u001b[0m\u001b[1;33m=\u001b[0m\u001b[0mx\u001b[0m\u001b[1;33m[\u001b[0m\u001b[0mi\u001b[0m\u001b[1;33m]\u001b[0m\u001b[1;33m*\u001b[0m\u001b[1;33m(\u001b[0m\u001b[1;36m10\u001b[0m\u001b[1;33m**\u001b[0m\u001b[1;33m(\u001b[0m\u001b[0mlen\u001b[0m\u001b[1;33m(\u001b[0m\u001b[0mx\u001b[0m\u001b[1;33m)\u001b[0m\u001b[1;33m-\u001b[0m\u001b[1;36m1\u001b[0m\u001b[1;33m-\u001b[0m\u001b[0mi\u001b[0m\u001b[1;33m)\u001b[0m\u001b[1;33m)\u001b[0m\u001b[1;33m+\u001b[0m\u001b[0mr\u001b[0m\u001b[1;33m\u001b[0m\u001b[1;33m\u001b[0m\u001b[0m\n\u001b[0m\u001b[0;32m      5\u001b[0m     \u001b[1;32mreturn\u001b[0m \u001b[0mr\u001b[0m\u001b[1;33m\u001b[0m\u001b[1;33m\u001b[0m\u001b[0m\n\u001b[0;32m      6\u001b[0m \u001b[0ma\u001b[0m\u001b[1;33m=\u001b[0m\u001b[0mstr\u001b[0m\u001b[1;33m(\u001b[0m\u001b[0minput\u001b[0m\u001b[1;33m(\u001b[0m\u001b[1;33m)\u001b[0m\u001b[1;33m)\u001b[0m\u001b[1;33m\u001b[0m\u001b[1;33m\u001b[0m\u001b[0m\n",
      "\u001b[1;31mTypeError\u001b[0m: can only concatenate str (not \"int\") to str"
     ]
    }
   ],
   "source": [
    "def la(x):\n",
    "    r=0\n",
    "    for i in range (len(x)):\n",
    "        r=x[i]*(10**(len(x)-1-i))+r\n",
    "    return r\n",
    "a=str(input()) \n",
    "la(a)"
   ]
  },
  {
   "cell_type": "code",
   "execution_count": 58,
   "metadata": {},
   "outputs": [
    {
     "data": {
      "text/plain": [
       "24"
      ]
     },
     "execution_count": 58,
     "metadata": {},
     "output_type": "execute_result"
    }
   ],
   "source": [
    "def lb(x):\n",
    "    r=0\n",
    "    j=0\n",
    "    for i in range (1,len(x)+1):\n",
    "        if x[-i]%2==0:\n",
    "            r=x[-i]*(10**j)+r\n",
    "            j+=1\n",
    "    return r\n",
    "a=[1,2,3,4] \n",
    "lb(a)"
   ]
  },
  {
   "cell_type": "code",
   "execution_count": 61,
   "metadata": {},
   "outputs": [
    {
     "data": {
      "text/plain": [
       "[1, 4, 3, 16]"
      ]
     },
     "execution_count": 61,
     "metadata": {},
     "output_type": "execute_result"
    }
   ],
   "source": [
    "def lb(x):\n",
    "    for i in range (len(x)):\n",
    "        if x[i]%2==0:\n",
    "            x[i]=x[i]**2\n",
    "    return x\n",
    "a=[1,2,3,4] \n",
    "lb(a)"
   ]
  },
  {
   "cell_type": "code",
   "execution_count": null,
   "metadata": {},
   "outputs": [],
   "source": []
  }
 ],
 "metadata": {
  "kernelspec": {
   "display_name": "Python 3",
   "language": "python",
   "name": "python3"
  },
  "language_info": {
   "codemirror_mode": {
    "name": "ipython",
    "version": 3
   },
   "file_extension": ".py",
   "mimetype": "text/x-python",
   "name": "python",
   "nbconvert_exporter": "python",
   "pygments_lexer": "ipython3",
   "version": "3.7.3"
  }
 },
 "nbformat": 4,
 "nbformat_minor": 2
}

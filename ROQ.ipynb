{
 "cells": [
  {
   "cell_type": "markdown",
   "metadata": {},
   "source": [
    "# Roots of QE"
   ]
  },
  {
   "cell_type": "markdown",
   "metadata": {},
   "source": [
    "***Algorithem***\n",
    "- Enter 3 inputs a,b,c float type\n",
    "- calculate b^2+4ac store in d\n",
    "- check whether d is > or < or = 0\n",
    "- if d=0 print \"roots are equal -b/2a\"\n",
    "- if d>0 print \"roots are (-b+s(d)/(2*a)),(-b-s(d)/(2*a))\"\n",
    "- if d<0 print \"root is ((-b)/(2*a))+i(s(-d)/(2*a)),((-b)/(2*a))-i(s(-d)/(2*a))\""
   ]
  },
  {
   "cell_type": "markdown",
   "metadata": {},
   "source": [
    "<img src=\"roq.png\">"
   ]
  },
  {
   "cell_type": "code",
   "execution_count": 1,
   "metadata": {},
   "outputs": [
    {
     "name": "stdout",
     "output_type": "stream",
     "text": [
      "enter a,b,c values  of QE\n",
      "1\n",
      "2\n",
      "1\n",
      "roots are equal -1.0\n"
     ]
    }
   ],
   "source": [
    "from math import sqrt as s\n",
    "print(\"enter a,b,c values  of QE\")\n",
    "a=float(input())\n",
    "b=float(input())\n",
    "c=float(input())\n",
    "d=b*b-4*a*c\n",
    "if(d==0):\n",
    "    print(\"roots are equal\",(-b/(2*a)))\n",
    "elif d>0:\n",
    "    print(\"roots are\",(-b+s(d)/(2*a)),\",\",(-b-s(d)/(2*a)))\n",
    "else:\n",
    "    print(\"root is\",((-b)/(2*a)),\"+i\",(s(-d)/(2*a)),\",\",((-b)/(2*a)),\"-i\",(s(-d)/(2*a)))"
   ]
  }
 ],
 "metadata": {
  "kernelspec": {
   "display_name": "Python 3",
   "language": "python",
   "name": "python3"
  },
  "language_info": {
   "codemirror_mode": {
    "name": "ipython",
    "version": 3
   },
   "file_extension": ".py",
   "mimetype": "text/x-python",
   "name": "python",
   "nbconvert_exporter": "python",
   "pygments_lexer": "ipython3",
   "version": "3.7.3"
  }
 },
 "nbformat": 4,
 "nbformat_minor": 2
}

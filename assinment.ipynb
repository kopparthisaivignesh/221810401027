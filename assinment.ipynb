{
 "cells": [
  {
   "cell_type": "code",
   "execution_count": 2,
   "metadata": {},
   "outputs": [
    {
     "name": "stdout",
     "output_type": "stream",
     "text": [
      "enter year2019\n",
      "not a leap year\n"
     ]
    }
   ],
   "source": [
    "a=int(input(\"enter year\"))\n",
    "if a%4==0 and a%100!=0:\n",
    "    print(\"leap year\")\n",
    "else:\n",
    "    print(\"not a leap year\")"
   ]
  },
  {
   "cell_type": "code",
   "execution_count": 3,
   "metadata": {},
   "outputs": [
    {
     "name": "stdout",
     "output_type": "stream",
     "text": [
      "enter day number4\n",
      "thurday\n"
     ]
    }
   ],
   "source": [
    "b=int(input(\"enter day number\"))\n",
    "if b==1:\n",
    "    print(\"monday\")\n",
    "elif b==2:\n",
    "    print(\"tuesday\")\n",
    "elif b==3:\n",
    "    print(\"wednesday\")\n",
    "elif b==4:\n",
    "    print(\"thurday\")\n",
    "elif b==5:\n",
    "    print(\"friday\")\n",
    "elif b==6:\n",
    "    print(\"saturday\")\n",
    "elif b==7:\n",
    "    print(\"sunday\")\n",
    "else:\n",
    "    print(\"invalid\")"
   ]
  },
  {
   "cell_type": "code",
   "execution_count": 4,
   "metadata": {},
   "outputs": [
    {
     "name": "stdout",
     "output_type": "stream",
     "text": [
      "enter a4\n",
      "enter b3\n",
      "enter c8\n",
      "c is largest\n"
     ]
    }
   ],
   "source": [
    "a=int(input(\"enter a\"))\n",
    "b=int(input(\"enter b\"))\n",
    "c=int(input(\"enter c\"))\n",
    "if a>b and a>c:\n",
    "    print(\"a is largest\")\n",
    "elif b>a and b>c:\n",
    "    print(\"b is largest\")\n",
    "else:\n",
    "    print(\"c is largest\")"
   ]
  },
  {
   "cell_type": "code",
   "execution_count": 6,
   "metadata": {
    "scrolled": true
   },
   "outputs": [
    {
     "name": "stdout",
     "output_type": "stream",
     "text": [
      "enter value5\n"
     ]
    },
    {
     "data": {
      "text/plain": [
       "15"
      ]
     },
     "execution_count": 6,
     "metadata": {},
     "output_type": "execute_result"
    }
   ],
   "source": [
    "n=int(input(\"enter value\"))\n",
    "s=0\n",
    "for i in range(n+1):\n",
    "    s=s+i\n",
    "s"
   ]
  },
  {
   "cell_type": "code",
   "execution_count": 8,
   "metadata": {},
   "outputs": [
    {
     "name": "stdout",
     "output_type": "stream",
     "text": [
      "enter value5\n"
     ]
    },
    {
     "data": {
      "text/plain": [
       "9"
      ]
     },
     "execution_count": 8,
     "metadata": {},
     "output_type": "execute_result"
    }
   ],
   "source": [
    "n=int(input(\"enter value\"))\n",
    "\n",
    "15\n",
    "s=0\n",
    "for i in range(n+1):\n",
    "    if(i%2!=0):\n",
    "        s=s+i\n",
    "s"
   ]
  },
  {
   "cell_type": "code",
   "execution_count": 9,
   "metadata": {},
   "outputs": [
    {
     "name": "stdout",
     "output_type": "stream",
     "text": [
      "enter value5\n",
      "sum= 15\n",
      "avg 3\n"
     ]
    }
   ],
   "source": [
    "n=int(input(\"enter value\"))\n",
    "s=0\n",
    "for i in range(n+1):\n",
    "    s=s+i\n",
    "print(\"sum=\",s)\n",
    "print(\"avg\",s//n)"
   ]
  },
  {
   "cell_type": "code",
   "execution_count": 10,
   "metadata": {},
   "outputs": [
    {
     "name": "stdout",
     "output_type": "stream",
     "text": [
      "enter value6\n",
      "divisor of number\n",
      "1\n",
      "2\n",
      "3\n",
      "6\n"
     ]
    }
   ],
   "source": [
    "n=int(input(\"enter value\"))\n",
    "print(\"divisor of number\")\n",
    "for i in range(1,n+1):\n",
    "    if n%i==0:\n",
    "        print(i)"
   ]
  },
  {
   "cell_type": "code",
   "execution_count": 13,
   "metadata": {},
   "outputs": [
    {
     "name": "stdout",
     "output_type": "stream",
     "text": [
      "enter celsius56\n",
      "132.8\n"
     ]
    }
   ],
   "source": [
    "c=float(input(\"enter celsius\"))\n",
    "print((9*c/5)+32)"
   ]
  },
  {
   "cell_type": "code",
   "execution_count": 16,
   "metadata": {},
   "outputs": [
    {
     "name": "stdout",
     "output_type": "stream",
     "text": [
      "sides of triangle\n",
      "1\n",
      "11\n",
      "13\n",
      "not a triangle\n"
     ]
    }
   ],
   "source": [
    "print(\"sides of triangle\")\n",
    "a=int(input())\n",
    "b=int(input())\n",
    "c=int(input())\n",
    "if a+b>=c and a+c>=b and b+c>=a:\n",
    "    print(\"it is triangle\")\n",
    "else:\n",
    "    print(\"not a triangle\")"
   ]
  },
  {
   "cell_type": "code",
   "execution_count": 27,
   "metadata": {},
   "outputs": [
    {
     "name": "stdout",
     "output_type": "stream",
     "text": [
      "enter a,b,c values  of QE\n",
      "3\n",
      "4\n",
      "5\n",
      "root is -0.6666666666666666 +i 1.1055415967851332 , -0.6666666666666666 -i 1.1055415967851332\n"
     ]
    }
   ],
   "source": [
    "from math import sqrt as s\n",
    "print(\"enter a,b,c values  of QE\")\n",
    "a=float(input())\n",
    "b=float(input())\n",
    "c=float(input())\n",
    "d=b*b-4*a*c\n",
    "if(d==0):\n",
    "    print(\"roots are equal\",(-b/(2*a)))\n",
    "elif d>0:\n",
    "    print(\"roots are\",(-b+s(d)/(2*a)),\",\",(-b-s(d)/(2*a)))\n",
    "else:\n",
    "    print(\"root is\",((-b)/(2*a)),\"+i\",(s(-d)/(2*a)),\",\",((-b)/(2*a)),\"-i\",(s(-d)/(2*a)))"
   ]
  },
  {
   "cell_type": "code",
   "execution_count": null,
   "metadata": {},
   "outputs": [],
   "source": []
  }
 ],
 "metadata": {
  "kernelspec": {
   "display_name": "Python 3",
   "language": "python",
   "name": "python3"
  },
  "language_info": {
   "codemirror_mode": {
    "name": "ipython",
    "version": 3
   },
   "file_extension": ".py",
   "mimetype": "text/x-python",
   "name": "python",
   "nbconvert_exporter": "python",
   "pygments_lexer": "ipython3",
   "version": "3.7.3"
  }
 },
 "nbformat": 4,
 "nbformat_minor": 2
}
